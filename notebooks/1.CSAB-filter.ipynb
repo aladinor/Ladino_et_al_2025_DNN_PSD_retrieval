{
 "cells": [
  {
   "cell_type": "markdown",
   "id": "f7e7a15c-499c-411f-9665-36f5cd7fd1e4",
   "metadata": {},
   "source": [
    "# Cross-Sectional Area Based Filter"
   ]
  },
  {
   "cell_type": "markdown",
   "id": "08ada1dd-1c51-47a3-9397-f3ec9b98a958",
   "metadata": {},
   "source": [
    "---"
   ]
  },
  {
   "cell_type": "markdown",
   "id": "24b5eab2-ef54-4ebf-b37a-01d108de9865",
   "metadata": {},
   "source": [
    "[![Open In Colab](https://colab.research.google.com/assets/colab-badge.svg)](https://colab.research.google.com/github/aladinor/Ladino_et_al_2024_DNN_PSD_retrieval/blob/main/notebooks/1.CSAB-filter.ipynb)"
   ]
  },
  {
   "cell_type": "markdown",
   "id": "34e4a887-267b-4afb-823f-9912457bd510",
   "metadata": {},
   "source": [
    "If running in Google Colab, download and execute colab_setup.py"
   ]
  },
  {
   "cell_type": "code",
   "execution_count": 6,
   "id": "255b179a-cfb2-4956-bf9f-24405132a762",
   "metadata": {},
   "outputs": [
    {
     "name": "stdout",
     "output_type": "stream",
     "text": [
      "Running notebook locally\n"
     ]
    }
   ],
   "source": [
    "if 'google.colab' in str(get_ipython()):\n",
    "    !wget https://raw.githubusercontent.com/aladinor/Ladino_et_al_2025_DNN_PSD_retrieval/main/scripts/colab_setup.py -O colab_setup.py\n",
    "    %run colab_setup.py\n",
    "else:\n",
    "    print(\"Running notebook locally\")"
   ]
  },
  {
   "cell_type": "code",
   "execution_count": 1,
   "id": "3a731b91-d3d1-4a59-b218-d2f91136803e",
   "metadata": {},
   "outputs": [],
   "source": [
    "import xarray as xr\n",
    "import pandas as pd\n",
    "import matplotlib.pyplot as plt\n",
    "import seaborn as sns\n",
    "import numpy as np\n",
    "import matplotlib.transforms as mtransforms\n",
    "from scipy.special import gamma\n",
    "from sklearn.preprocessing import StandardScaler\n",
    "from imblearn.over_sampling import RandomOverSampler\n",
    "from sklearn.model_selection import train_test_split\n",
    "from collections import Counter\n",
    "from dask.distributed import Client, LocalCluster\n",
    "from matplotlib.colors import ListedColormap\n",
    "from matplotlib.patches import Patch, Rectangle\n",
    "from matplotlib.offsetbox import DrawingArea\n",
    "from metpy.calc import pressure_to_height_std as p2h\n",
    "from metpy.calc import lcl\n",
    "import warnings\n",
    "from PIL import Image\n",
    "import cv2\n",
    "warnings.filterwarnings('ignore')"
   ]
  },
  {
   "cell_type": "markdown",
   "id": "be7909f5-926b-4b10-9dd7-799da55f490e",
   "metadata": {},
   "source": [
    "Let's fire up our local cluster"
   ]
  },
  {
   "cell_type": "code",
   "execution_count": 5,
   "id": "bae168c6-aa29-48e8-bd2f-9cab42a0a846",
   "metadata": {},
   "outputs": [],
   "source": [
    "cluster = LocalCluster()  \n",
    "# display(cluster)"
   ]
  },
  {
   "cell_type": "markdown",
   "id": "52660370-f9b7-4e3f-b037-bbaa353b1fd4",
   "metadata": {},
   "source": [
    "Now, we can access our dataset which is stored in a `Xarray.DataTree` object"
   ]
  },
  {
   "cell_type": "code",
   "execution_count": null,
   "id": "91004e95-1f75-4c7a-a659-e02bce13fd18",
   "metadata": {},
   "outputs": [],
   "source": [
    "dt_camp2ex = xr.backends.api.open_datatree(\n",
    "    '../data/camp2ex_dtree.zarr', \n",
    "    engine='zarr', \n",
    "    consolidated=True, \n",
    "    chunks={}\n",
    ")"
   ]
  },
  {
   "cell_type": "code",
   "execution_count": null,
   "id": "9979cac7-6b2f-4087-9b4f-132675440138",
   "metadata": {},
   "outputs": [],
   "source": [
    "page3_lear = xr.open_dataset(\n",
    "    \"/data/keeling/a/alfonso8/gpm/camp2ex/cloud_probes/zarr/Page0_Learjet.zarr/\",\n",
    "    engine=\"zarr\",\n",
    "    consolidated=True\n",
    ")"
   ]
  },
  {
   "cell_type": "code",
   "execution_count": null,
   "id": "135fde0d-fade-4501-8787-a1d0fa7bffc2",
   "metadata": {},
   "outputs": [],
   "source": [
    "page3_lear[\"NevTWC\"]"
   ]
  },
  {
   "cell_type": "markdown",
   "id": "ece1194a-1faa-41af-a579-482eca1cae8c",
   "metadata": {},
   "source": [
    "Then, we can access the HVPS data by using the path `\"/Lear/HVPS\"`"
   ]
  },
  {
   "cell_type": "code",
   "execution_count": null,
   "id": "2018c05f-acb7-4ccc-8da1-d44c84d81c2e",
   "metadata": {},
   "outputs": [],
   "source": [
    "dt_camp2ex[\"/Lear/HVPS\"][\"NevTWC\"] = page3_lear[\"NevTWC\"]\n",
    "dt_camp2ex[\"/Lear/HVPS\"][\"NevLWC\"] = page3_lear[\"NevLWC\"]"
   ]
  },
  {
   "cell_type": "code",
   "execution_count": null,
   "id": "34ab31ad-bf4e-4793-bb17-a59bdfcabe21",
   "metadata": {},
   "outputs": [],
   "source": [
    "xr_hvps = dt_camp2ex[\"/Lear/HVPS\"].to_dataset()"
   ]
  },
  {
   "cell_type": "code",
   "execution_count": null,
   "id": "d5b83eba-42e9-45b7-9aab-20e7e9dde101",
   "metadata": {
    "scrolled": true
   },
   "outputs": [],
   "source": [
    "display(xr_hvps)"
   ]
  },
  {
   "cell_type": "markdown",
   "id": "3617fc73-1014-4aaf-a7d3-986125cccd09",
   "metadata": {},
   "source": [
    "Now, we can estimate the axis ratio ($\\alpha$) defined by Andsager et al. (1998)"
   ]
  },
  {
   "cell_type": "code",
   "execution_count": null,
   "id": "4a9259c4-e8ee-4fb3-801c-e4e7b9e9c95d",
   "metadata": {},
   "outputs": [],
   "source": [
    "# lets create a array from the min diameter to the max diameter every 0.1\n",
    "diameter= np.arange(xr_hvps.diameter.min() / 1e3, xr_hvps.diameter.max() / 1e3, 0.1)\n",
    "ar_andsager = lambda d: 1.0048 + 0.0057 * d - 2.628 * d ** 2 + 3.682 * d ** 3 - \\\n",
    "                                                          1.677 * d ** 4\n",
    "# axis ratio for the diameter array\n",
    "alpha = ar_andsager(diameter/10)\n",
    "# axis ratio for each bin within the HVPS\n",
    "alpha_hvps = ar_andsager(xr_hvps.diameter/1e4)\n"
   ]
  },
  {
   "cell_type": "markdown",
   "id": "448314b2-ef2b-4789-a5dc-f8d39c0b0983",
   "metadata": {},
   "source": [
    "Once we create the axis ratio, we can create a corresponding cross-sectional area"
   ]
  },
  {
   "cell_type": "code",
   "execution_count": null,
   "id": "4e801ed6-feee-44b5-99dc-fb7329abe6a8",
   "metadata": {},
   "outputs": [],
   "source": [
    "# area function\n",
    "_area = lambda x: np.pi * (x / 2) ** 2\n",
    "\n",
    "# Cross-sectional area for a sphere\n",
    "area = _area(diameter)\n",
    "# Cross-sectional area at each bin \n",
    "area_hvps = _area(xr_hvps.diameter / 1e3)"
   ]
  },
  {
   "cell_type": "markdown",
   "id": "7596444b-0c95-4e6e-9d01-3d16c20f3e43",
   "metadata": {},
   "source": [
    "Splashed particle was detected during a cloud penetration by the Learjet aircraft on `2019-09-07 02:32:12`"
   ]
  },
  {
   "cell_type": "code",
   "execution_count": null,
   "id": "4a034ff6-6a63-40e6-8ee5-80dff304a8bd",
   "metadata": {},
   "outputs": [],
   "source": [
    "time = \"2019-09-07 02:32:12\""
   ]
  },
  {
   "cell_type": "markdown",
   "id": "2903530b-a8da-4cc2-adea-ed39558a4239",
   "metadata": {},
   "source": [
    "Let's extract the PSD and the bin width for this measurement"
   ]
  },
  {
   "cell_type": "code",
   "execution_count": null,
   "id": "98e6c72f-eb24-474a-8c57-427bf4c9ca7a",
   "metadata": {},
   "outputs": [],
   "source": [
    "psd = (xr_hvps.sel(time=time).psd * 1e6) \n",
    "d_D = xr_hvps.sel(time=time).d_d"
   ]
  },
  {
   "cell_type": "markdown",
   "id": "d1cea9ba-2760-4dd4-9563-5630400e902e",
   "metadata": {},
   "source": [
    "Now, we can compute the raw LWC and get the Nevzorov values"
   ]
  },
  {
   "cell_type": "code",
   "execution_count": null,
   "id": "87ef6d3e-043a-43c7-8974-6ee16a3c4155",
   "metadata": {},
   "outputs": [],
   "source": [
    "lwc_raw = ((np.pi / (6*1000)) * psd * (xr_hvps.diameter/1e3) ** 3 * d_D / 1e3)\n",
    "lwc_raw_tot = lwc_raw.sum(\"diameter\").squeeze().values\n",
    "lwc_nev = xr_hvps.NevTWC.sel(time=time).values\n",
    "llwc_nev = xr_hvps.NevLWC.sel(time=time).values"
   ]
  },
  {
   "cell_type": "code",
   "execution_count": null,
   "id": "4b957aab-e16c-49fb-88c9-1767e42c4b4c",
   "metadata": {},
   "outputs": [],
   "source": [
    "lwc_nev, llwc_nev"
   ]
  },
  {
   "cell_type": "markdown",
   "id": "b763deb6-5c29-4d5f-98f9-0c4e08f0b8e5",
   "metadata": {},
   "source": [
    "The Cross-sectional Area (CSA) for each bin can be estimated as:\n",
    "\n",
    "$$CSAB_{i} = \\frac{A(D_{i})}{N(D_{i})}$$\n",
    "\n",
    "Where $A$ is the Area at each $i$ bin, and PN is the number of particles within the $i$ bin. "
   ]
  },
  {
   "cell_type": "code",
   "execution_count": null,
   "id": "707290aa-f973-4898-8cd5-04a15c5c60b8",
   "metadata": {},
   "outputs": [],
   "source": [
    "csa = xr_hvps.a_bin.sel(time=time) /  xr_hvps.cnt_bin.sel(time=time)"
   ]
  },
  {
   "cell_type": "markdown",
   "id": "b7b4b792-cb63-4aea-8771-c30f177e5bc4",
   "metadata": {},
   "source": [
    "Our cross-sectional area-based filter is expressed as:\n",
    "\n",
    "$$CSAB= \\frac{\\pi}{4}D^2*\\alpha$$\n",
    "\n",
    "Now, we can filter bins with the axis ratio $ 1<= \\alpha <=2$ "
   ]
  },
  {
   "cell_type": "code",
   "execution_count": null,
   "id": "3bf601b0-ce95-4f84-b1b7-75b7325b2429",
   "metadata": {},
   "outputs": [],
   "source": [
    "## Particles accepted\n",
    "csab_in = csa.where(csa >= area_hvps / 1e5 * alpha_hvps).where(csa <= area_hvps / 1e5 * alpha_hvps * 2)\n",
    "## Particles Rejected in the upper bound\n",
    "csab_low = csa.where(csa < area_hvps / 1e5 * alpha_hvps)\n",
    "## Particles Rejected in the lower bound\n",
    "csab_up = csa.where(csa > area_hvps / 1e5 * alpha_hvps * 2)"
   ]
  },
  {
   "cell_type": "markdown",
   "id": "2ade63ac-6959-4533-ab01-df0e1f839e3c",
   "metadata": {},
   "source": [
    "Let's estimate the LWC filtered"
   ]
  },
  {
   "cell_type": "code",
   "execution_count": null,
   "id": "7dbf40d2-9f47-4abc-b8f5-c353c4cf1e7a",
   "metadata": {},
   "outputs": [],
   "source": [
    "lwc_filt = lwc_raw.where(csa >= area_hvps / 1e5 * alpha_hvps).where(csa <= area_hvps / 1e5 * alpha_hvps * 2)"
   ]
  },
  {
   "cell_type": "markdown",
   "id": "94d6f403-c226-4d51-98de-2d534fc5d8e7",
   "metadata": {},
   "source": [
    "To confirm the measurements were taken within a cloud, we only keep data with at least 5 consecutive bins wiht $N(D_i)> 0$. Therefore, we created the following fucntion:"
   ]
  },
  {
   "cell_type": "code",
   "execution_count": null,
   "id": "8ea911ee-8530-4cdc-9f91-6d022f44c941",
   "metadata": {},
   "outputs": [],
   "source": [
    "def filter_consecutive(dataarray, min_length=5):\n",
    "    # Ensure the input is a DataArray\n",
    "    if not isinstance(dataarray, xr.DataArray):\n",
    "        raise TypeError(\"Input must be an xarray DataArray.\")\n",
    "    \n",
    "    # Convert the DataArray to a numpy array for manipulation\n",
    "    arr = dataarray.values\n",
    "    arr = np.array(arr, dtype=float)  # Ensure it is of float type to accommodate NaNs\n",
    "    \n",
    "    # Identify the indices where the values are neither NaNs nor zeros\n",
    "    valid_indices = np.where(~np.isnan(arr) & (arr != 0))[0]\n",
    "    \n",
    "    # If there are no valid numbers, return an array filled with NaNs\n",
    "    if len(valid_indices) == 0:\n",
    "        return xr.full_like(dataarray, np.nan)\n",
    "    \n",
    "    # Find the indices where the difference between consecutive valid indices is not 1\n",
    "    diff = np.diff(valid_indices)\n",
    "    breaks = np.where(diff != 1)[0] + 1\n",
    "    \n",
    "    # Split the valid indices into groups based on breaks\n",
    "    sequences = np.split(valid_indices, breaks)\n",
    "    \n",
    "    # Create a copy of the array to modify\n",
    "    filtered_array = np.full_like(arr, np.nan)\n",
    "    \n",
    "    # Retain sequences that have at least 'min_length' consecutive elements\n",
    "    for seq in sequences:\n",
    "        if len(seq) >= min_length:\n",
    "            filtered_array[seq] = arr[seq]\n",
    "    \n",
    "    # Create a new DataArray with the same coordinates, dimensions, and attributes\n",
    "    filtered_dataarray = xr.DataArray(filtered_array, \n",
    "                                      coords=dataarray.coords, \n",
    "                                      dims=dataarray.dims, \n",
    "                                      attrs=dataarray.attrs)\n",
    "    \n",
    "    return filtered_dataarray"
   ]
  },
  {
   "cell_type": "code",
   "execution_count": null,
   "id": "892ed164-f8ae-4d15-a79d-6fb812c1df9f",
   "metadata": {},
   "outputs": [],
   "source": [
    "lwc_filtered = filter_consecutive(lwc_filt).sum(\"diameter\").squeeze().values"
   ]
  },
  {
   "cell_type": "code",
   "execution_count": null,
   "id": "2f450b84-79c8-445b-bffd-3a09fa100f2b",
   "metadata": {},
   "outputs": [],
   "source": [
    "lwc_filtered"
   ]
  },
  {
   "cell_type": "markdown",
   "id": "e6b5c246-f2ff-44d2-9009-7dfc11112c79",
   "metadata": {},
   "source": [
    "Now, we get the diameter for each filtered case"
   ]
  },
  {
   "cell_type": "code",
   "execution_count": null,
   "id": "bf6d1f82-40da-4385-8bb5-f9ac6fbe0bdc",
   "metadata": {},
   "outputs": [],
   "source": [
    "# similarly we stimated the \n",
    "y = xr_hvps.psd.sel(time=time) * 1e6\n",
    "y = y.where(y > 0, np.nan)\n",
    "yyes = y.where(csa >= area_hvps / 1e5 * alpha_hvps).where(csa <= area_hvps / 1e5 * alpha_hvps * 2)\n",
    "ynot = y.where(csa < area_hvps / 1e5 * alpha_hvps)\n",
    "ynot2 = y.where(csa > area_hvps / 1e5 * alpha_hvps * 2)"
   ]
  },
  {
   "cell_type": "markdown",
   "id": "1771bd41-bd0b-44da-b03b-77b48652a677",
   "metadata": {},
   "source": [
    "Finally, we can reproduce Figure 1 from Ladino Et al. 2024"
   ]
  },
  {
   "cell_type": "code",
   "execution_count": null,
   "id": "a340063a-76ff-4479-9e32-be6e77a0ffbd",
   "metadata": {},
   "outputs": [],
   "source": [
    "# Create and define the layout\n",
    "fig, axs = plt.subplot_mosaic([['a)', 'a)'], ['b)', 'c)']], figsize=(8,6), dpi=150)\n",
    "\n",
    "# In the top row show the HVPS raw image\n",
    "path_img = '../data/CAMP2Ex_HVPS_P3B_V_20190907_023212_276415_RA.png'\n",
    "img = np.asarray(Image.open(path_img))\n",
    "ax0  = axs[\"a)\"]\n",
    "ax0.imshow(cv2.cvtColor(img[292:440, :], cv2.COLOR_BGR2RGB))\n",
    "ax0.xaxis.set_tick_params(labelbottom=False)\n",
    "ax0.yaxis.set_tick_params(labelleft=False)\n",
    "ax0.set_xticks([])\n",
    "ax0.set_yticks([])\n",
    "\n",
    "# Plot PSD along with LWC quantities\n",
    "ax1 = axs['b)']\n",
    "ax1.step(x=xr_hvps.diameter* 1e-3, y=yyes, where='mid', label='$HVPS \\ accepted$', c='k')\n",
    "ax1.step(x=xr_hvps.diameter* 1e-3, y=ynot, where='mid', c='grey', label='$HVPS \\ rejected$')\n",
    "ax1.step(x=xr_hvps.diameter* 1e-3, y=ynot2, where='mid', c='grey')\n",
    "\n",
    "ax1.set_xscale('log')\n",
    "ax1.set_yscale('log')\n",
    "ax1.grid(which='both', lw=0.5)\n",
    "ax1.set_ylabel('$Concentration \\ [mm^{-1} m^{-3}]$')\n",
    "ax1.set_xlabel('$Diameter \\ [mm]$')\n",
    "ax1.legend(fontsize=10)\n",
    "props = dict(boxstyle='round', facecolor='wheat', alpha=0.5)\n",
    "\n",
    "ax1.text(0.07, 0.35, \"$TWC_{Raw}= \\ $\" + f'{lwc_raw_tot:.1f}' + f'$gm^{-3}$' + '\\n' + \n",
    "         \"$TWC_{Filt}=\\  $\" + f\"{lwc_filtered:.2f}\" + '$gm^{-3}$' + '\\n' +\n",
    "         \"$TWC_{Nev}=\\  $\" + f\"{lwc_nev:.2f}\" + '$gm^{-3}$',\n",
    "        transform=ax1.transAxes, fontsize=10, verticalalignment='top', bbox=props)\n",
    "\n",
    "\n",
    "# Plot the CSAB filter rejectec particles\n",
    "ax = axs['c)']\n",
    "ax.plot(diameter,area/1e5 * alpha, c='b', label='$Lower \\ (Andsager \\ et \\  al. \\ (1999))$')\n",
    "ax.plot(diameter,area/1e5 * alpha * 2, c='g', label='$Upper \\  (Baker \\  et \\  al. \\  (2009))$')\n",
    "ax.plot(diameter , area/1e5,  color='tab:brown', ls='--', label='$CSAB_{Sphere}$')\n",
    "ax.fill_between(diameter, \n",
    "                area/1e5 * alpha , \n",
    "                area/1e5 * alpha * 2, alpha=0.2)\n",
    "\n",
    "ax.scatter(xr_hvps.diameter / 1e3, csab_in, \n",
    "               zorder=2.5, c='k', lw=0.8, marker='.', label='$Accepted$')\n",
    "ax.scatter(xr_hvps.diameter / 1e3, csab_low, \n",
    "               zorder=2.5, c='gray', lw=0.8, marker='.', label='$Rejected$')\n",
    "ax.scatter(xr_hvps.diameter / 1e3, csab_up, \n",
    "               zorder=2.5, c='gray', lw=0.5, marker='.')\n",
    "\n",
    "ax.set_xscale('log')\n",
    "ax.set_yscale('log')\n",
    "ax.set_ylabel('$Cross-sectional \\ area \\ [mm^2]$')\n",
    "ax.set_xlabel('$Diameter \\ [mm]$')\n",
    "# title = f\"{pd.to_datetime(xr_hvps.a_bin.sel(time=time).time.values): %Y-%m-%d %X} UTC - {aircraft}\"\n",
    "# fig.suptitle(title, fontsize=14, fontweight='bold', y=0.95)\n",
    "ax.set_xlim(0, 10)\n",
    "ax.set_xlim(0, 10)\n",
    "\n",
    "ax.legend(loc='upper left', fontsize=8.5)\n",
    "ax.grid(which='both', lw=0.5)\n",
    "for label, ax in axs.items():\n",
    "    # label physical distance in and down:\n",
    "    trans = mtransforms.ScaledTranslation(-20/72, 1/72, fig.dpi_scale_trans)\n",
    "    ax.text(0.0, 1.0, label, transform=ax.transAxes + trans,\n",
    "            fontsize='medium', verticalalignment='top')\n",
    "    \n",
    "fig.tight_layout()\n",
    "plt.subplots_adjust(wspace=None, hspace=-0.1)\n",
    "plt.savefig('../images/area_based_filter.svg', bbox_inches='tight')"
   ]
  },
  {
   "cell_type": "markdown",
   "id": "a39d0b83-5e6b-4e12-a259-78af6ca34195",
   "metadata": {},
   "source": [
    "## Adiabatic Liquid water content comparison"
   ]
  },
  {
   "cell_type": "markdown",
   "id": "40339614-a000-43fc-833d-4d8ff1a016d4",
   "metadata": {},
   "source": [
    "Another way to test our CSAB filter is by comparing values with the adiabatic LWC. To achieve this, a dropsonde launched near the analized event is used to compute the adiatatic LWC profile."
   ]
  },
  {
   "cell_type": "code",
   "execution_count": null,
   "id": "096f715a-5935-4f26-a57d-d600ce45153a",
   "metadata": {},
   "outputs": [],
   "source": [
    "def comp_lwc(t, p):\n",
    "    \"\"\"\n",
    "    Compute the adiabatic Liquid Water Content (LWC) for a given temperature and pressure.\n",
    "\n",
    "    Parameters\n",
    "    ----------\n",
    "    t : float or array-like\n",
    "        Temperature in Kelvin.\n",
    "    p : float or array-like\n",
    "        Pressure in hPa.\n",
    "\n",
    "    Returns\n",
    "    -------\n",
    "    cw : float or array-like\n",
    "        Adiabatic Liquid Water Content (LWC) in g/m^3.\n",
    "\n",
    "    Notes\n",
    "    -----\n",
    "    The adiabatic LWC is computed based on thermodynamic principles and assumes adiabatic ascent,\n",
    "    where no heat exchange occurs with the surrounding environment. The function calculates the\n",
    "    adiabatic temperature lapse rate and the density of dry air, incorporating parameters such as\n",
    "    latent heat, specific heat, and the molar mass ratio of dry air to water vapor.\n",
    "\n",
    "    The formula is derived from:\n",
    "      - The Clausius-Clapeyron equation for saturation vapor pressure,\n",
    "      - Ideal gas law for density,\n",
    "      - and an adjustment for adiabatic cooling.\n",
    "\n",
    "    Formula Steps:\n",
    "    --------------\n",
    "    1. Calculate the saturation vapor pressure (`es`) based on the Clausius-Clapeyron relation.\n",
    "    2. Compute the mixing ratio (`r`) using the molar mass ratio of dry air to water vapor.\n",
    "    3. Determine the dry adiabatic lapse rate (`gamma_d`).\n",
    "    4. Compute the moist adiabatic lapse rate (`gamma_m`), adjusting for the presence of water vapor.\n",
    "    5. Calculate the air density (`rho_a`) from the ideal gas law.\n",
    "    6. Finally, compute the adiabatic liquid water content (`cw`), expressed in g/m^3.\n",
    "\n",
    "    Constants\n",
    "    ---------\n",
    "    g : float\n",
    "        Gravitational acceleration, in m/s^2.\n",
    "    cp : float\n",
    "        Specific heat of dry air at constant pressure, in J/(kg·K).\n",
    "    Rd : float\n",
    "        Specific gas constant for dry air, in J/(kg·K).\n",
    "    Rv : float\n",
    "        Specific gas constant for water vapor, in J/(kg·K).\n",
    "    L : float\n",
    "        Latent heat of vaporization, in J/kg.\n",
    "\n",
    "    Examples\n",
    "    --------\n",
    "    >>> t = 273.15 + 8.0  # Temperature in Kelvin\n",
    "    >>> p = 900.0  # Pressure in hPa\n",
    "    >>> comp_lwc(t, p)\n",
    "    0.153  # Example output in g/m^3\n",
    "\n",
    "    \"\"\"\n",
    "    \n",
    "    g = 9.8076\n",
    "    cp = 1004.0\n",
    "    Rd = 287.0\n",
    "    Rv = 461.5\n",
    "    L = 2.5e6\n",
    "    es = 6.112 * np.exp(17.67 * (t - 273.15) / (243.5 + (t - 273.15)))\n",
    "    molar_mass_ratio = 1.0 / 1.608  # Rd/Rv\n",
    "    r = molar_mass_ratio * es / p\n",
    "    gamma_d = -g / cp\n",
    "    gamma_m = gamma_d * (1.0 + L * r / (Rd * t)) / (1 + L ** 2 * r / (cp * Rv * t ** 2))\n",
    "    rho_a = 100.0 * p / (Rd * t)  # hPa back to Pa for density calculation\n",
    "    cw = rho_a * (cp / L) * (gamma_m - gamma_d)  # 1e3 for units. End result in g/m^3\n",
    "    return cw\n"
   ]
  },
  {
   "cell_type": "code",
   "execution_count": null,
   "id": "9f6d62a2-00ab-4058-9678-202c05735970",
   "metadata": {},
   "outputs": [],
   "source": [
    "# setting up the Seaborne style including figure  dpi\n",
    "sns.set(rc={\"figure.dpi\":150, 'savefig.dpi':150})\n",
    "sns.set(style='white', font_scale=0.9)\n",
    "sns.set_style(\"ticks\")"
   ]
  },
  {
   "cell_type": "markdown",
   "id": "f96bc9eb-5a02-4f12-8bd0-b77e9d582dbe",
   "metadata": {},
   "source": [
    "Let's read the dropsonde information available [here](https://vandenheever.atmos.colostate.edu/vdhpage/camp2ex/dropsondes_rev1.php?flt_nm=2019-09-06_SF06#:~:text=S03_vicinity_strong_conv)"
   ]
  },
  {
   "cell_type": "code",
   "execution_count": null,
   "id": "f4250a27-ac2c-4330-bc5b-89828032ed6c",
   "metadata": {},
   "outputs": [],
   "source": [
    "dropsonde = xr.open_dataset('../data/CAMP2EX_AVAPS_RD41_v1_20190907_030551.nc')"
   ]
  },
  {
   "cell_type": "markdown",
   "id": "d4114ca1-abc3-4b61-b359-ac0b2dc8b41d",
   "metadata": {},
   "source": [
    "Extract the values needed for adiabatic LWC calculation"
   ]
  },
  {
   "cell_type": "code",
   "execution_count": null,
   "id": "2ac5add9-68a2-406b-8245-177ef182d28d",
   "metadata": {},
   "outputs": [],
   "source": [
    "# Extract pressure, temperature, and dew point temperature from the dropsonde data,\n",
    "# removing any rows with NaN values along the 'time' dimension\n",
    "p = dropsonde.dropna('time')['pres']  # Pressure in hPa\n",
    "t = dropsonde.dropna('time')['tdry']  # Temperature in degrees Celsius\n",
    "dp = dropsonde.dropna('time')['dp']    # Dew point temperature in degrees Celsius\n",
    "\n",
    "# Calculate the Lifted Condensation Level (LCL) pressure and temperature\n",
    "# `lcl_p` is the pressure at LCL, and `lcl_t` is the temperature at LCL\n",
    "lcl_p, lcl_t = lcl(p, t, dp)\n",
    "\n",
    "# Determine the Cloud Base Height (CBH) by converting the LCL pressure to height\n",
    "# using the `p2h` function. This calculates the height above sea level where clouds form.\n",
    "cbh = p2h(lcl_p[0])\n",
    "\n",
    "# Filter the dropsonde data to include only values below the LCL pressure level\n",
    "# This ensures we are analyzing atmospheric conditions below the cloud base.\n",
    "dropsonde = dropsonde.where(dropsonde.pres < lcl_p[0].m)\n",
    "\n",
    "# Re-extract pressure, temperature, and dew point temperature after applying the LCL filter\n",
    "# and dropping any remaining NaN values along the 'time' dimension\n",
    "p = dropsonde['pres'].dropna('time')\n",
    "t = dropsonde['tdry'].dropna('time')\n",
    "dp = dropsonde['dp'].dropna('time')\n",
    "\n",
    "# Convert the filtered pressure values to height above sea level using the `p2h` function\n",
    "# This provides the altitude in meters corresponding to each pressure level.\n",
    "h = p2h(p)\n",
    "\n",
    "# Calculate the adiabatic liquid water content (LWC) at each height level.\n",
    "# The temperature is converted to Kelvin by adding 273.15 before passing to `comp_lwc`.\n",
    "adia_lwc = comp_lwc(t.values + 273.15, p.values)\n",
    "\n",
    "# Compute the cumulative sum of adiabatic LWC across the height levels\n",
    "# This approximates the total liquid water path below the cloud base.\n",
    "# The result is scaled by 1e6 to ensure units consistency (g/m^3).\n",
    "adia_lwc_sum = np.cumsum(adia_lwc[:-1] * h.diff('time').values * 1e6)\n"
   ]
  },
  {
   "cell_type": "markdown",
   "id": "940efd12-c2fa-4a9f-be8c-0ae4946cdee3",
   "metadata": {},
   "source": [
    "Now we can create an `xarray.Dataset` with the adiabatic results"
   ]
  },
  {
   "cell_type": "code",
   "execution_count": null,
   "id": "bbb97b11-3b44-4731-bd2c-417087bb1352",
   "metadata": {
    "scrolled": true
   },
   "outputs": [],
   "source": [
    "ds_adiabatic = xr.Dataset(\n",
    "    {\n",
    "        \"adia_lwc\": ((\"height\",), adia_lwc[:-1]),\n",
    "        \"adia_lwc_sum\": ((\"height\",), adia_lwc_sum)\n",
    "    },\n",
    "    coords={\"height\": h.values[:-1] * 1000}  # Use 'height' as the dimension\n",
    ")\n",
    "ds_adiabatic"
   ]
  },
  {
   "cell_type": "code",
   "execution_count": null,
   "id": "27e9d394-dfd4-4f40-ad75-4b79b52024d0",
   "metadata": {},
   "outputs": [],
   "source": [
    "fig, ax = plt.subplots(figsize=(5, 5))\n",
    "\n",
    "# height relative to the cloud base\n",
    "heigth = ds_adiabatic.height - cbh.m * 1000\n",
    "\n",
    "ax.plot(ds_adiabatic.adia_lwc_sum, heigth, c=\"red\", label=\"Adiabatic LWC\")\n",
    "\n",
    "# altitude of the plane relative to the cloud base\n",
    "alt_cb = xr_hvps.alt.sel(time=time) - cbh.m * 1000\n",
    "# Plotting filtered data points\n",
    "ax.scatter(x=lwc_raw_tot, y=alt_cb, color=\"k\", s=2, label=\"Raw LWC\")\n",
    "ax.scatter(x=lwc_filtered, y=alt_cb, color=\"blue\", s=2, label=\"LWC Filtered\")\n",
    "\n",
    "# Labels and limits\n",
    "ax.set_xlabel(\"$LWC \\ [g \\  m^{-3}]$\")\n",
    "ax.set_ylabel(\"$Height \\ above \\ cloud \\ base \\ [m]$\")\n",
    "ax.set_ylim(-250, 5500)\n",
    "ax.set_xlim(-0.5, 9.5)\n",
    "\n",
    "# Adding legend\n",
    "ax.legend()\n",
    "fig.tight_layout()\n",
    "plt.savefig('../images/adiabatic_lwc.png',  bbox_inches='tight')\n",
    "plt.show()"
   ]
  },
  {
   "cell_type": "markdown",
   "id": "9ec13c95-1b1c-48b2-9afe-77b17b06d9aa",
   "metadata": {},
   "source": [
    "From this plot we can conclude our filtered LWC ($5.95$ $g \\ m^{-3}$) is less than the adiabatic LWC ($6.33$ $g \\ m^{-3}$)"
   ]
  },
  {
   "cell_type": "code",
   "execution_count": null,
   "id": "78359623-a7da-455e-b303-7bd63c09c18b",
   "metadata": {},
   "outputs": [],
   "source": [
    "# altitude of the plane relative to the ground\n",
    "alt_ground = xr_hvps.alt.sel(time=time)"
   ]
  },
  {
   "cell_type": "code",
   "execution_count": null,
   "id": "3dd6efd1-2e03-4121-bcc5-f86336ec9587",
   "metadata": {},
   "outputs": [],
   "source": [
    "ds_adiabatic.adia_lwc_sum.sel(height=alt_ground, method=\"nearest\").values"
   ]
  },
  {
   "cell_type": "code",
   "execution_count": null,
   "id": "49029027-e145-4ccf-9796-cc633a5563d8",
   "metadata": {},
   "outputs": [],
   "source": [
    "lwc_filtered"
   ]
  },
  {
   "cell_type": "code",
   "execution_count": null,
   "id": "8e26a88c-9b7c-4e6f-bd41-37ec79ba9e69",
   "metadata": {},
   "outputs": [],
   "source": []
  }
 ],
 "metadata": {
  "kernelspec": {
   "display_name": "Python 3 (ipykernel)",
   "language": "python",
   "name": "python3"
  },
  "language_info": {
   "codemirror_mode": {
    "name": "ipython",
    "version": 3
   },
   "file_extension": ".py",
   "mimetype": "text/x-python",
   "name": "python",
   "nbconvert_exporter": "python",
   "pygments_lexer": "ipython3",
   "version": "3.12.7"
  }
 },
 "nbformat": 4,
 "nbformat_minor": 5
}
